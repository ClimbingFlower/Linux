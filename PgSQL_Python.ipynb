{
 "cells": [
  {
   "cell_type": "code",
   "execution_count": null,
   "id": "f5aef151",
   "metadata": {},
   "outputs": [],
   "source": [
    "import psycopg2\n",
    "import pandas as pd\n",
    "\n",
    "conn = psycopg2.connect(\n",
    "    host = \"localhost\",\n",
    "    port = \"5432\",\n",
    "    database = \"name_of_database\",\n",
    "    user = \"postgres\",\n",
    "    password = \"postgres\"\n",
    ")\n",
    "\n",
    "df = pd.read_sql_query(\"SELECT * FROM person ;\", conn)\n",
    "print(\" = = = = 展示成员信息= = = = \")\n",
    "print(df)\n",
    "conn.close()"
   ]
  }
 ],
 "metadata": {
  "kernelspec": {
   "display_name": "Python 3",
   "language": "python",
   "name": "python3"
  },
  "language_info": {
   "codemirror_mode": {
    "name": "ipython",
    "version": 3
   },
   "file_extension": ".py",
   "mimetype": "text/x-python",
   "name": "python",
   "nbconvert_exporter": "python",
   "pygments_lexer": "ipython3",
   "version": "3.10.5"
  }
 },
 "nbformat": 4,
 "nbformat_minor": 5
}
