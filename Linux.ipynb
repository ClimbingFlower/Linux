{
 "cells": [
  {
   "cell_type": "code",
   "execution_count": null,
   "id": "8b7c7761",
   "metadata": {
    "vscode": {
     "languageId": "latex"
    }
   },
   "outputs": [],
   "source": [
    "# 显示当前路径\n",
    "pwd\n",
    "\n",
    "# 列出目录内容\n",
    "ls\n",
    "ls -l         # 显示详细信息\n",
    "ls -a         # 显示隐藏文件\n",
    "\n",
    "# 切换目录\n",
    "cd /home/user\n",
    "cd ..         # 返回上一级\n",
    "cd ~          # 返回用户主目录\n",
    "\n",
    "# 创建/删除目录\n",
    "mkdir new_folder\n",
    "rmdir old_folder\n",
    "\n",
    "# 创建/删除文件\n",
    "touch new.txt\n",
    "rm file.txt\n",
    "rm -rf folder/    # 强制删除文件夹\n",
    "\n",
    "# 复制/移动/重命名\n",
    "cp file1 file2\n",
    "cp -r dir1 dir2\n",
    "mv old.txt new.txt\n",
    "\n",
    "# 查看文件内容\n",
    "cat file.txt\n",
    "less file.txt\n",
    "head -n 10 file.txt\n",
    "tail -f log.txt    # 实时查看日志\n",
    "\n",
    "# 搜索文件\n",
    "find /home -name \"*.txt\""
   ]
  }
 ],
 "metadata": {
  "kernelspec": {
   "display_name": "Python 3",
   "language": "python",
   "name": "python3"
  },
  "language_info": {
   "codemirror_mode": {
    "name": "ipython",
    "version": 3
   },
   "file_extension": ".py",
   "mimetype": "text/x-python",
   "name": "python",
   "nbconvert_exporter": "python",
   "pygments_lexer": "ipython3",
   "version": "3.10.5"
  }
 },
 "nbformat": 4,
 "nbformat_minor": 5
}
