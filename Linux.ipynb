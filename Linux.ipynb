{
 "cells": [
  {
   "cell_type": "markdown",
   "id": "8b7c7761",
   "metadata": {
    "vscode": {
     "languageId": "latex"
    }
   },
   "source": [
    "### 文件与目录操作\n",
    "---\n",
    "<span style=\"color:#00BFFF; font-weight:bold;\">显示当前路径：</span>  \n",
    "```bash\n",
    "pwd\n",
    "```\n",
    "\n",
    "<span style=\"color:#00BFFF; font-weight:bold;\">列出目录内容：</span>  \n",
    "```bash\n",
    "ls\n",
    "ls -l      # 显示详细信息\n",
    "ls -a      # 显示隐藏文件\n",
    "```\n",
    "\n",
    "<span style=\"color:#00BFFF; font-weight:bold;\">切换目录：</span>  \n",
    "```bash\n",
    "cd /home/user\n",
    "cd ..      # 返回上一级\n",
    "cd ~       # 返回用户主目录\n",
    "```"
   ]
  },
  {
   "cell_type": "markdown",
   "id": "cb16d071",
   "metadata": {},
   "source": [
    "### 文件查看与编辑\n",
    "---\n",
    "<span style=\"color:#00BFFF; font-weight:bold;\">查看文件内容：</span>\n",
    "```bash\n",
    "cat file.txt            # 查看全部内容\n",
    "more file.txt           # 分页查看\n",
    "less file.txt           # 可上下滚动查看\n",
    "head file.txt           # 查看前10行\n",
    "tail file.txt           # 查看后10行\n",
    "tail -f log.txt         # 实时查看文件更新\n",
    "```\n",
    "\n",
    "<span style=\"color:#00BFFF; font-weight:bold;\">文本编辑器：</span>\n",
    "```bash\n",
    "nano file.txt           # 简单编辑器\n",
    "vim file.txt            # 强大编辑器\n",
    "```"
   ]
  },
  {
   "cell_type": "markdown",
   "id": "94338a4b",
   "metadata": {},
   "source": [
    "### 文件操作\n",
    "---\n",
    "<span style=\"color:#00BFFF; font-weight:bold;\">复制、移动与重命名：</span>\n",
    "```bash\n",
    "cp file1.txt file2.txt  # 复制文件\n",
    "cp -r dir1 dir2         # 复制目录\n",
    "mv old.txt new.txt      # 重命名文件\n",
    "mv file.txt /tmp/       # 移动文件\n",
    "```\n",
    "\n",
    "<span style=\"color:#00BFFF; font-weight:bold;\">查找文件与内容：</span>\n",
    "```bash\n",
    "find / -name file.txt           # 按名称查找\n",
    "grep \"keyword\" file.txt         # 搜索关键字\n",
    "grep -r \"keyword\" /home/user/   # 递归搜索目录\n",
    "```"
   ]
  },
  {
   "cell_type": "markdown",
   "id": "f6c55019",
   "metadata": {},
   "source": [
    "### 权限与属性\n",
    "---\n",
    "<span style=\"color:#00BFFF; font-weight:bold;\">文件权限：</span>\n",
    "\n",
    "```bash\n",
    "ls -l                          # 查看权限\n",
    "chmod 755 file.sh              # 修改权限\n",
    "chmod u+x file.sh              # 赋予执行权限\n",
    "chown user:group file.txt      # 修改文件所有者\n",
    "```"
   ]
  },
  {
   "cell_type": "markdown",
   "id": "4615e32a",
   "metadata": {},
   "source": [
    "### 系统信息与进程管理\n",
    "---\n",
    "<span style=\"color:#00BFFF; font-weight:bold;\">系统信息：</span>\n",
    "```bash\n",
    "uname -a                      # 查看系统版本\n",
    "df -h                         # 查看磁盘空间\n",
    "du -sh folder                 # 查看目录大小\n",
    "free -h                       # 查看内存使用情况\n",
    "top                           # 实时查看系统进程\n",
    "htop                          # 更美观的进程查看器\n",
    "```\n",
    "\n",
    "<span style=\"color:#00BFFF; font-weight:bold;\">进程管理：</span>\n",
    "``` bash\n",
    "ps aux                        # 查看所有进程\n",
    "kill 1234                     # 杀死进程ID为1234的进程\n",
    "kill -9 1234                  # 强制终止进程\n",
    "```"
   ]
  },
  {
   "cell_type": "markdown",
   "id": "7e5f57d8",
   "metadata": {},
   "source": [
    "### 网络与连接\n",
    "---\n",
    "<span style=\"color:#00BFFF; font-weight:bold;\">网络命令：</span>\n",
    "```bash\n",
    "ping www.google.com           # 测试网络连接\n",
    "ifconfig                      # 查看网络配置\n",
    "ip addr                       # 查看IP地址\n",
    "netstat -tuln                 # 查看端口占用\n",
    "curl https://example.com      # 获取网页内容\n",
    "wget https://example.com/file # 下载文件\n",
    "```"
   ]
  },
  {
   "cell_type": "markdown",
   "id": "131361bc",
   "metadata": {},
   "source": [
    "### 压缩与解压\n",
    "---\n",
    "<span style=\"color:#00BFFF; font-weight:bold;\">打包与压缩：</span>\n",
    "```bash\n",
    "tar -cvf archive.tar folder/          # 打包\n",
    "tar -xvf archive.tar                  # 解包\n",
    "tar -czvf archive.tar.gz folder/      # 打包并压缩\n",
    "tar -xzvf archive.tar.gz              # 解压\n",
    "zip -r archive.zip folder/            # ZIP压缩\n",
    "unzip archive.zip                     # ZIP解压\n",
    "```"
   ]
  },
  {
   "cell_type": "markdown",
   "id": "4fa7f6ee",
   "metadata": {},
   "source": [
    "### 用户与权限管理\n",
    "---\n",
    "<span style=\"color:#00BFFF; font-weight:bold;\">用户操作：</span>\n",
    "```bash\n",
    "whoami                      # 查看当前用户\n",
    "su username                 # 切换用户\n",
    "sudo command                # 以管理员身份执行\n",
    "adduser newuser             # 添加用户\n",
    "passwd username             # 修改密码\n",
    "deluser username            # 删除用户\n",
    "```"
   ]
  },
  {
   "cell_type": "markdown",
   "id": "7037bef9",
   "metadata": {},
   "source": [
    "### 其他常用命令\n",
    "---\n",
    "<span style=\"color:#00BFFF; font-weight:bold;\">时间与历史：</span>\n",
    "```bash\n",
    "date                        # 显示当前时间\n",
    "cal                         # 显示日历\n",
    "history                     # 查看命令历史\n",
    "```\n",
    "\n",
    "<span style=\"color:#00BFFF; font-weight:bold;\">清屏与退出：</span>\n",
    "```bash\n",
    "clear                       # 清屏\n",
    "exit                        # 退出终端\n",
    "```"
   ]
  }
 ],
 "metadata": {
  "kernelspec": {
   "display_name": "Python 3",
   "language": "python",
   "name": "python3"
  },
  "language_info": {
   "codemirror_mode": {
    "name": "ipython",
    "version": 3
   },
   "file_extension": ".py",
   "mimetype": "text/x-python",
   "name": "python",
   "nbconvert_exporter": "python",
   "pygments_lexer": "ipython3",
   "version": "3.10.5"
  }
 },
 "nbformat": 4,
 "nbformat_minor": 5
}
