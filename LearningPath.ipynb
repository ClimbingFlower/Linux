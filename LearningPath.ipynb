{
 "cells": [
  {
   "cell_type": "markdown",
   "id": "a2ab6946",
   "metadata": {},
   "source": [
    "# Chapter 1 Linux Common Command \n",
    "\n",
    "## 1. 文件与目录操作\n",
    "-'ls': 列出目录内容\n"
   ]
  }
 ],
 "metadata": {
  "kernelspec": {
   "display_name": "Python 3",
   "language": "python",
   "name": "python3"
  },
  "language_info": {
   "codemirror_mode": {
    "name": "ipython",
    "version": 3
   },
   "file_extension": ".py",
   "mimetype": "text/x-python",
   "name": "python",
   "nbconvert_exporter": "python",
   "pygments_lexer": "ipython3",
   "version": "3.10.5"
  }
 },
 "nbformat": 4,
 "nbformat_minor": 5
}
